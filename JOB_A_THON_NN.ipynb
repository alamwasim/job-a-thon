{
  "nbformat": 4,
  "nbformat_minor": 0,
  "metadata": {
    "colab": {
      "name": "JOB-A-THON NN.ipynb",
      "provenance": [],
      "authorship_tag": "ABX9TyOMdFGaF8yJrCi+f80hhnns",
      "include_colab_link": true
    },
    "kernelspec": {
      "name": "python3",
      "display_name": "Python 3"
    }
  },
  "cells": [
    {
      "cell_type": "markdown",
      "metadata": {
        "id": "view-in-github",
        "colab_type": "text"
      },
      "source": [
        "<a href=\"https://colab.research.google.com/github/alamwasim/job-a-thon/blob/main/JOB_A_THON_NN.ipynb\" target=\"_parent\"><img src=\"https://colab.research.google.com/assets/colab-badge.svg\" alt=\"Open In Colab\"/></a>"
      ]
    },
    {
      "cell_type": "code",
      "metadata": {
        "id": "q6c4bFiRibmG"
      },
      "source": [
        ""
      ],
      "execution_count": null,
      "outputs": []
    },
    {
      "cell_type": "code",
      "metadata": {
        "id": "N-mqdmQcidOp"
      },
      "source": [
        "import pandas as pd\r\n",
        "from keras.models import Sequential\r\n",
        "from keras.layers import Dense\r\n",
        "from keras.wrappers.scikit_learn import KerasClassifier\r\n",
        "from sklearn.model_selection import cross_val_score\r\n",
        "from sklearn.preprocessing import LabelEncoder\r\n",
        "from sklearn.model_selection import StratifiedKFold\r\n",
        "from sklearn.preprocessing import StandardScaler\r\n",
        "from sklearn.pipeline import Pipeline\r\n",
        "from sklearn.model_selection import train_test_split\r\n",
        "from sklearn.metrics import roc_auc_score, roc_curve"
      ],
      "execution_count": 31,
      "outputs": []
    },
    {
      "cell_type": "code",
      "metadata": {
        "colab": {
          "base_uri": "https://localhost:8080/"
        },
        "id": "f8evdYRzidzA",
        "outputId": "cc9ae473-15a1-49c2-daeb-f97b6a5b118b"
      },
      "source": [
        "from google.colab import drive\r\n",
        "drive.mount('/content/gdrive')"
      ],
      "execution_count": 2,
      "outputs": [
        {
          "output_type": "stream",
          "text": [
            "Mounted at /content/gdrive\n"
          ],
          "name": "stdout"
        }
      ]
    },
    {
      "cell_type": "code",
      "metadata": {
        "id": "tnWYoKaBiiaW"
      },
      "source": [
        "train=pd.read_csv(\"/content/gdrive/MyDrive/ml_data/jobathon/jobathon_train.csv\")\r\n",
        "test=pd.read_csv(\"/content/gdrive/MyDrive/ml_data/jobathon/jobathon_test.csv\")"
      ],
      "execution_count": 3,
      "outputs": []
    },
    {
      "cell_type": "code",
      "metadata": {
        "colab": {
          "base_uri": "https://localhost:8080/",
          "height": 197
        },
        "id": "Y3duMVmoip00",
        "outputId": "5357ef15-5dd2-4a25-e3c5-10ee525d2f83"
      },
      "source": [
        "train.head()"
      ],
      "execution_count": 4,
      "outputs": [
        {
          "output_type": "execute_result",
          "data": {
            "text/html": [
              "<div>\n",
              "<style scoped>\n",
              "    .dataframe tbody tr th:only-of-type {\n",
              "        vertical-align: middle;\n",
              "    }\n",
              "\n",
              "    .dataframe tbody tr th {\n",
              "        vertical-align: top;\n",
              "    }\n",
              "\n",
              "    .dataframe thead th {\n",
              "        text-align: right;\n",
              "    }\n",
              "</style>\n",
              "<table border=\"1\" class=\"dataframe\">\n",
              "  <thead>\n",
              "    <tr style=\"text-align: right;\">\n",
              "      <th></th>\n",
              "      <th>ID</th>\n",
              "      <th>City_Code</th>\n",
              "      <th>Region_Code</th>\n",
              "      <th>Accomodation_Type</th>\n",
              "      <th>Reco_Insurance_Type</th>\n",
              "      <th>Upper_Age</th>\n",
              "      <th>Lower_Age</th>\n",
              "      <th>Is_Spouse</th>\n",
              "      <th>Health Indicator</th>\n",
              "      <th>Holding_Policy_Duration</th>\n",
              "      <th>Holding_Policy_Type</th>\n",
              "      <th>Reco_Policy_Cat</th>\n",
              "      <th>Reco_Policy_Premium</th>\n",
              "      <th>Response</th>\n",
              "    </tr>\n",
              "  </thead>\n",
              "  <tbody>\n",
              "    <tr>\n",
              "      <th>0</th>\n",
              "      <td>1</td>\n",
              "      <td>C3</td>\n",
              "      <td>3213</td>\n",
              "      <td>Rented</td>\n",
              "      <td>Individual</td>\n",
              "      <td>36</td>\n",
              "      <td>36</td>\n",
              "      <td>No</td>\n",
              "      <td>X1</td>\n",
              "      <td>14+</td>\n",
              "      <td>3.0</td>\n",
              "      <td>22</td>\n",
              "      <td>11628.0</td>\n",
              "      <td>0</td>\n",
              "    </tr>\n",
              "    <tr>\n",
              "      <th>1</th>\n",
              "      <td>2</td>\n",
              "      <td>C5</td>\n",
              "      <td>1117</td>\n",
              "      <td>Owned</td>\n",
              "      <td>Joint</td>\n",
              "      <td>75</td>\n",
              "      <td>22</td>\n",
              "      <td>No</td>\n",
              "      <td>X2</td>\n",
              "      <td>NaN</td>\n",
              "      <td>NaN</td>\n",
              "      <td>22</td>\n",
              "      <td>30510.0</td>\n",
              "      <td>0</td>\n",
              "    </tr>\n",
              "    <tr>\n",
              "      <th>2</th>\n",
              "      <td>3</td>\n",
              "      <td>C5</td>\n",
              "      <td>3732</td>\n",
              "      <td>Owned</td>\n",
              "      <td>Individual</td>\n",
              "      <td>32</td>\n",
              "      <td>32</td>\n",
              "      <td>No</td>\n",
              "      <td>NaN</td>\n",
              "      <td>1.0</td>\n",
              "      <td>1.0</td>\n",
              "      <td>19</td>\n",
              "      <td>7450.0</td>\n",
              "      <td>1</td>\n",
              "    </tr>\n",
              "    <tr>\n",
              "      <th>3</th>\n",
              "      <td>4</td>\n",
              "      <td>C24</td>\n",
              "      <td>4378</td>\n",
              "      <td>Owned</td>\n",
              "      <td>Joint</td>\n",
              "      <td>52</td>\n",
              "      <td>48</td>\n",
              "      <td>No</td>\n",
              "      <td>X1</td>\n",
              "      <td>14+</td>\n",
              "      <td>3.0</td>\n",
              "      <td>19</td>\n",
              "      <td>17780.0</td>\n",
              "      <td>0</td>\n",
              "    </tr>\n",
              "    <tr>\n",
              "      <th>4</th>\n",
              "      <td>5</td>\n",
              "      <td>C8</td>\n",
              "      <td>2190</td>\n",
              "      <td>Rented</td>\n",
              "      <td>Individual</td>\n",
              "      <td>44</td>\n",
              "      <td>44</td>\n",
              "      <td>No</td>\n",
              "      <td>X2</td>\n",
              "      <td>3.0</td>\n",
              "      <td>1.0</td>\n",
              "      <td>16</td>\n",
              "      <td>10404.0</td>\n",
              "      <td>0</td>\n",
              "    </tr>\n",
              "  </tbody>\n",
              "</table>\n",
              "</div>"
            ],
            "text/plain": [
              "   ID City_Code  Region_Code  ... Reco_Policy_Cat Reco_Policy_Premium  Response\n",
              "0   1        C3         3213  ...              22             11628.0         0\n",
              "1   2        C5         1117  ...              22             30510.0         0\n",
              "2   3        C5         3732  ...              19              7450.0         1\n",
              "3   4       C24         4378  ...              19             17780.0         0\n",
              "4   5        C8         2190  ...              16             10404.0         0\n",
              "\n",
              "[5 rows x 14 columns]"
            ]
          },
          "metadata": {
            "tags": []
          },
          "execution_count": 4
        }
      ]
    },
    {
      "cell_type": "code",
      "metadata": {
        "colab": {
          "base_uri": "https://localhost:8080/"
        },
        "id": "SwvZziG7ixWv",
        "outputId": "83354c61-2b51-41dc-c1ca-fe937e4b5734"
      },
      "source": [
        "train.info()"
      ],
      "execution_count": 5,
      "outputs": [
        {
          "output_type": "stream",
          "text": [
            "<class 'pandas.core.frame.DataFrame'>\n",
            "RangeIndex: 50882 entries, 0 to 50881\n",
            "Data columns (total 14 columns):\n",
            " #   Column                   Non-Null Count  Dtype  \n",
            "---  ------                   --------------  -----  \n",
            " 0   ID                       50882 non-null  int64  \n",
            " 1   City_Code                50882 non-null  object \n",
            " 2   Region_Code              50882 non-null  int64  \n",
            " 3   Accomodation_Type        50882 non-null  object \n",
            " 4   Reco_Insurance_Type      50882 non-null  object \n",
            " 5   Upper_Age                50882 non-null  int64  \n",
            " 6   Lower_Age                50882 non-null  int64  \n",
            " 7   Is_Spouse                50882 non-null  object \n",
            " 8   Health Indicator         39191 non-null  object \n",
            " 9   Holding_Policy_Duration  30631 non-null  object \n",
            " 10  Holding_Policy_Type      30631 non-null  float64\n",
            " 11  Reco_Policy_Cat          50882 non-null  int64  \n",
            " 12  Reco_Policy_Premium      50882 non-null  float64\n",
            " 13  Response                 50882 non-null  int64  \n",
            "dtypes: float64(2), int64(6), object(6)\n",
            "memory usage: 5.4+ MB\n"
          ],
          "name": "stdout"
        }
      ]
    },
    {
      "cell_type": "code",
      "metadata": {
        "id": "Qhsgt3MMiy9g"
      },
      "source": [
        "#Replacing Missing Values with 'null' string. These all wil be treated as categorical data\r\n",
        "train[['Health Indicator','Holding_Policy_Type']]=train[['Health Indicator','Holding_Policy_Type']].fillna(\"null\")\r\n",
        "test[['Health Indicator','Holding_Policy_Type']]=test[['Health Indicator','Holding_Policy_Type']].fillna(\"null\")\r\n",
        "#Replacing Null with 0 in Holding policy Duration\r\n",
        "train[['Holding_Policy_Duration']]=train[['Holding_Policy_Duration']].fillna(0)\r\n",
        "test[['Holding_Policy_Duration']]=test[['Holding_Policy_Duration']].fillna(0)\r\n",
        "#Replacing 14+ as 15 in Holding policy Duration\r\n",
        "train.loc[train.Holding_Policy_Duration=='14+','Holding_Policy_Duration']=15\r\n",
        "test.loc[test.Holding_Policy_Duration=='14+','Holding_Policy_Duration']=15"
      ],
      "execution_count": 6,
      "outputs": []
    },
    {
      "cell_type": "code",
      "metadata": {
        "id": "CoXdK_sii12Y"
      },
      "source": [
        "#Creating new features 'Is_Holding_Policy' to indicate if particular ID holds any Policy or not base upon missing values in Holding Policy Type\r\n",
        "train.loc[:,'Is_Holding_Policy']=1\r\n",
        "train.loc[train.Holding_Policy_Type==\"null\",'Is_Holding_Policy']=0\r\n",
        "test.loc[:,'Is_Holding_Policy']=1\r\n",
        "test.loc[test.Holding_Policy_Type==\"null\",'Is_Holding_Policy']=0\r\n",
        "#Creating new features 'mean_age' mean_age based upon lower and upper age\r\n",
        "train.loc[:,'mean_age']=(train.Upper_Age+train.Lower_Age)/2\r\n",
        "test.loc[:,'mean_age']=(test.Upper_Age+test.Lower_Age)/2\r\n",
        "#Age Gap\r\n",
        "train.loc[:,'age_gap']=train.Upper_Age-train.Lower_Age\r\n",
        "test.loc[:,'age_gap']=test.Upper_Age-test.Lower_Age"
      ],
      "execution_count": 7,
      "outputs": []
    },
    {
      "cell_type": "code",
      "metadata": {
        "colab": {
          "base_uri": "https://localhost:8080/",
          "height": 257
        },
        "id": "S3aewthki4NU",
        "outputId": "5c6ba16e-bd18-4d56-fc52-d34b47db86dd"
      },
      "source": [
        "new_var_in_test=[]\r\n",
        "new_var_in_train=[]\r\n",
        "for c in train.select_dtypes('object').columns:\r\n",
        "  new_var_in_test.append(len(set(test[c].values)-set(train[c].values)))\r\n",
        "  new_var_in_train.append(len(set(train[c].values)-set(test[c].values)))\r\n",
        "pd.DataFrame({'new_var_in_test':new_var_in_test,'new_var_in_train':new_var_in_train},index=train.select_dtypes('object').columns)"
      ],
      "execution_count": 8,
      "outputs": [
        {
          "output_type": "execute_result",
          "data": {
            "text/html": [
              "<div>\n",
              "<style scoped>\n",
              "    .dataframe tbody tr th:only-of-type {\n",
              "        vertical-align: middle;\n",
              "    }\n",
              "\n",
              "    .dataframe tbody tr th {\n",
              "        vertical-align: top;\n",
              "    }\n",
              "\n",
              "    .dataframe thead th {\n",
              "        text-align: right;\n",
              "    }\n",
              "</style>\n",
              "<table border=\"1\" class=\"dataframe\">\n",
              "  <thead>\n",
              "    <tr style=\"text-align: right;\">\n",
              "      <th></th>\n",
              "      <th>new_var_in_test</th>\n",
              "      <th>new_var_in_train</th>\n",
              "    </tr>\n",
              "  </thead>\n",
              "  <tbody>\n",
              "    <tr>\n",
              "      <th>City_Code</th>\n",
              "      <td>0</td>\n",
              "      <td>0</td>\n",
              "    </tr>\n",
              "    <tr>\n",
              "      <th>Accomodation_Type</th>\n",
              "      <td>0</td>\n",
              "      <td>0</td>\n",
              "    </tr>\n",
              "    <tr>\n",
              "      <th>Reco_Insurance_Type</th>\n",
              "      <td>0</td>\n",
              "      <td>0</td>\n",
              "    </tr>\n",
              "    <tr>\n",
              "      <th>Is_Spouse</th>\n",
              "      <td>0</td>\n",
              "      <td>0</td>\n",
              "    </tr>\n",
              "    <tr>\n",
              "      <th>Health Indicator</th>\n",
              "      <td>0</td>\n",
              "      <td>0</td>\n",
              "    </tr>\n",
              "    <tr>\n",
              "      <th>Holding_Policy_Duration</th>\n",
              "      <td>0</td>\n",
              "      <td>0</td>\n",
              "    </tr>\n",
              "    <tr>\n",
              "      <th>Holding_Policy_Type</th>\n",
              "      <td>0</td>\n",
              "      <td>0</td>\n",
              "    </tr>\n",
              "  </tbody>\n",
              "</table>\n",
              "</div>"
            ],
            "text/plain": [
              "                         new_var_in_test  new_var_in_train\n",
              "City_Code                              0                 0\n",
              "Accomodation_Type                      0                 0\n",
              "Reco_Insurance_Type                    0                 0\n",
              "Is_Spouse                              0                 0\n",
              "Health Indicator                       0                 0\n",
              "Holding_Policy_Duration                0                 0\n",
              "Holding_Policy_Type                    0                 0"
            ]
          },
          "metadata": {
            "tags": []
          },
          "execution_count": 8
        }
      ]
    },
    {
      "cell_type": "code",
      "metadata": {
        "id": "3dxCFZb1i9f3"
      },
      "source": [
        "train.Holding_Policy_Duration=train.Holding_Policy_Duration.astype('float32').astype('int32')\r\n",
        "test.Holding_Policy_Duration=test.Holding_Policy_Duration.astype('float32').astype('int32')"
      ],
      "execution_count": 9,
      "outputs": []
    },
    {
      "cell_type": "code",
      "metadata": {
        "colab": {
          "base_uri": "https://localhost:8080/"
        },
        "id": "Watgy75ojAUu",
        "outputId": "bf8a3a7e-3e35-4fa9-dc17-2b3f0e5b29b6"
      },
      "source": [
        "le_col=['City_Code', 'Accomodation_Type', 'Reco_Insurance_Type', 'Is_Spouse',\r\n",
        "       'Health Indicator', 'Holding_Policy_Type']\r\n",
        "def le_fit(df,col):\r\n",
        "  le_dict={}\r\n",
        "  for c in col:\r\n",
        "    le_dict[c]=dict(zip(train[c].unique(),range(train[c].nunique())))\r\n",
        "  print(\"le_dict :\",le_dict)\r\n",
        "  return le_dict\r\n",
        "def le_transform(df,col):\r\n",
        "  for c in col:\r\n",
        "    df[c]=df[c].map(le_dict[c],na_action='ignore').fillna(-1)\r\n",
        "le_dict=le_fit(train,le_col)\r\n",
        "le_transform(train,le_col)\r\n",
        "le_transform(test,le_col)"
      ],
      "execution_count": 10,
      "outputs": [
        {
          "output_type": "stream",
          "text": [
            "le_dict : {'City_Code': {'C3': 0, 'C5': 1, 'C24': 2, 'C8': 3, 'C9': 4, 'C1': 5, 'C15': 6, 'C28': 7, 'C27': 8, 'C7': 9, 'C20': 10, 'C25': 11, 'C4': 12, 'C2': 13, 'C34': 14, 'C10': 15, 'C17': 16, 'C18': 17, 'C16': 18, 'C29': 19, 'C33': 20, 'C26': 21, 'C19': 22, 'C6': 23, 'C12': 24, 'C13': 25, 'C11': 26, 'C14': 27, 'C22': 28, 'C23': 29, 'C21': 30, 'C36': 31, 'C32': 32, 'C30': 33, 'C35': 34, 'C31': 35}, 'Accomodation_Type': {'Rented': 0, 'Owned': 1}, 'Reco_Insurance_Type': {'Individual': 0, 'Joint': 1}, 'Is_Spouse': {'No': 0, 'Yes': 1}, 'Health Indicator': {'X1': 0, 'X2': 1, 'null': 2, 'X4': 3, 'X3': 4, 'X6': 5, 'X5': 6, 'X8': 7, 'X7': 8, 'X9': 9}, 'Holding_Policy_Type': {3.0: 0, 'null': 1, 1.0: 2, 4.0: 3, 2.0: 4}}\n"
          ],
          "name": "stdout"
        }
      ]
    },
    {
      "cell_type": "code",
      "metadata": {
        "colab": {
          "base_uri": "https://localhost:8080/"
        },
        "id": "Ebl84XyZjHkj",
        "outputId": "5301deff-79ce-455e-9ec3-e292555bda83"
      },
      "source": [
        "train.select_dtypes('object').columns"
      ],
      "execution_count": 11,
      "outputs": [
        {
          "output_type": "execute_result",
          "data": {
            "text/plain": [
              "Index([], dtype='object')"
            ]
          },
          "metadata": {
            "tags": []
          },
          "execution_count": 11
        }
      ]
    },
    {
      "cell_type": "code",
      "metadata": {
        "colab": {
          "base_uri": "https://localhost:8080/"
        },
        "id": "fGBnhPI4jJvy",
        "outputId": "d60f802c-52b7-4c94-ef30-a8c0ac77a256"
      },
      "source": [
        "train.columns"
      ],
      "execution_count": 12,
      "outputs": [
        {
          "output_type": "execute_result",
          "data": {
            "text/plain": [
              "Index(['ID', 'City_Code', 'Region_Code', 'Accomodation_Type',\n",
              "       'Reco_Insurance_Type', 'Upper_Age', 'Lower_Age', 'Is_Spouse',\n",
              "       'Health Indicator', 'Holding_Policy_Duration', 'Holding_Policy_Type',\n",
              "       'Reco_Policy_Cat', 'Reco_Policy_Premium', 'Response',\n",
              "       'Is_Holding_Policy', 'mean_age', 'age_gap'],\n",
              "      dtype='object')"
            ]
          },
          "metadata": {
            "tags": []
          },
          "execution_count": 12
        }
      ]
    },
    {
      "cell_type": "code",
      "metadata": {
        "colab": {
          "base_uri": "https://localhost:8080/",
          "height": 387
        },
        "id": "kSc4rEtTwpJs",
        "outputId": "2dd4ba8d-9233-437d-ebbd-7e578b8d7cec"
      },
      "source": [
        "from sklearn.preprocessing import OneHotEncoder\r\n",
        "ohe_col=['Health Indicator', 'Holding_Policy_Duration', 'Holding_Policy_Type','Reco_Policy_Cat']\r\n",
        "enc = OneHotEncoder(handle_unknown='ignore',categories=ohe_col)\r\n",
        "enc.fit(train)\r\n",
        "train=enc.trandform(train)\r\n",
        "test=enc.transform(test)"
      ],
      "execution_count": 75,
      "outputs": [
        {
          "output_type": "error",
          "ename": "ValueError",
          "evalue": "ignored",
          "traceback": [
            "\u001b[0;31m---------------------------------------------------------------------------\u001b[0m",
            "\u001b[0;31mValueError\u001b[0m                                Traceback (most recent call last)",
            "\u001b[0;32m<ipython-input-75-dc557eaf1bf6>\u001b[0m in \u001b[0;36m<module>\u001b[0;34m()\u001b[0m\n\u001b[1;32m      2\u001b[0m \u001b[0mohe_col\u001b[0m\u001b[0;34m=\u001b[0m\u001b[0;34m[\u001b[0m\u001b[0;34m'Health Indicator'\u001b[0m\u001b[0;34m,\u001b[0m \u001b[0;34m'Holding_Policy_Duration'\u001b[0m\u001b[0;34m,\u001b[0m \u001b[0;34m'Holding_Policy_Type'\u001b[0m\u001b[0;34m,\u001b[0m\u001b[0;34m'Reco_Policy_Cat'\u001b[0m\u001b[0;34m]\u001b[0m\u001b[0;34m\u001b[0m\u001b[0;34m\u001b[0m\u001b[0m\n\u001b[1;32m      3\u001b[0m \u001b[0menc\u001b[0m \u001b[0;34m=\u001b[0m \u001b[0mOneHotEncoder\u001b[0m\u001b[0;34m(\u001b[0m\u001b[0mhandle_unknown\u001b[0m\u001b[0;34m=\u001b[0m\u001b[0;34m'ignore'\u001b[0m\u001b[0;34m,\u001b[0m\u001b[0mcategories\u001b[0m\u001b[0;34m=\u001b[0m\u001b[0mohe_col\u001b[0m\u001b[0;34m)\u001b[0m\u001b[0;34m\u001b[0m\u001b[0;34m\u001b[0m\u001b[0m\n\u001b[0;32m----> 4\u001b[0;31m \u001b[0menc\u001b[0m\u001b[0;34m.\u001b[0m\u001b[0mfit\u001b[0m\u001b[0;34m(\u001b[0m\u001b[0mtrain\u001b[0m\u001b[0;34m)\u001b[0m\u001b[0;34m\u001b[0m\u001b[0;34m\u001b[0m\u001b[0m\n\u001b[0m\u001b[1;32m      5\u001b[0m \u001b[0mtrain\u001b[0m\u001b[0;34m=\u001b[0m\u001b[0menc\u001b[0m\u001b[0;34m.\u001b[0m\u001b[0mtrandform\u001b[0m\u001b[0;34m(\u001b[0m\u001b[0mtrain\u001b[0m\u001b[0;34m)\u001b[0m\u001b[0;34m\u001b[0m\u001b[0;34m\u001b[0m\u001b[0m\n\u001b[1;32m      6\u001b[0m \u001b[0mtest\u001b[0m\u001b[0;34m=\u001b[0m\u001b[0menc\u001b[0m\u001b[0;34m.\u001b[0m\u001b[0mtransform\u001b[0m\u001b[0;34m(\u001b[0m\u001b[0mtest\u001b[0m\u001b[0;34m)\u001b[0m\u001b[0;34m\u001b[0m\u001b[0;34m\u001b[0m\u001b[0m\n",
            "\u001b[0;32m/usr/local/lib/python3.7/dist-packages/sklearn/preprocessing/_encoders.py\u001b[0m in \u001b[0;36mfit\u001b[0;34m(self, X, y)\u001b[0m\n\u001b[1;32m    345\u001b[0m         \"\"\"\n\u001b[1;32m    346\u001b[0m         \u001b[0mself\u001b[0m\u001b[0;34m.\u001b[0m\u001b[0m_validate_keywords\u001b[0m\u001b[0;34m(\u001b[0m\u001b[0;34m)\u001b[0m\u001b[0;34m\u001b[0m\u001b[0;34m\u001b[0m\u001b[0m\n\u001b[0;32m--> 347\u001b[0;31m         \u001b[0mself\u001b[0m\u001b[0;34m.\u001b[0m\u001b[0m_fit\u001b[0m\u001b[0;34m(\u001b[0m\u001b[0mX\u001b[0m\u001b[0;34m,\u001b[0m \u001b[0mhandle_unknown\u001b[0m\u001b[0;34m=\u001b[0m\u001b[0mself\u001b[0m\u001b[0;34m.\u001b[0m\u001b[0mhandle_unknown\u001b[0m\u001b[0;34m)\u001b[0m\u001b[0;34m\u001b[0m\u001b[0;34m\u001b[0m\u001b[0m\n\u001b[0m\u001b[1;32m    348\u001b[0m         \u001b[0mself\u001b[0m\u001b[0;34m.\u001b[0m\u001b[0mdrop_idx_\u001b[0m \u001b[0;34m=\u001b[0m \u001b[0mself\u001b[0m\u001b[0;34m.\u001b[0m\u001b[0m_compute_drop_idx\u001b[0m\u001b[0;34m(\u001b[0m\u001b[0;34m)\u001b[0m\u001b[0;34m\u001b[0m\u001b[0;34m\u001b[0m\u001b[0m\n\u001b[1;32m    349\u001b[0m         \u001b[0;32mreturn\u001b[0m \u001b[0mself\u001b[0m\u001b[0;34m\u001b[0m\u001b[0;34m\u001b[0m\u001b[0m\n",
            "\u001b[0;32m/usr/local/lib/python3.7/dist-packages/sklearn/preprocessing/_encoders.py\u001b[0m in \u001b[0;36m_fit\u001b[0;34m(self, X, handle_unknown)\u001b[0m\n\u001b[1;32m     76\u001b[0m         \u001b[0;32mif\u001b[0m \u001b[0mself\u001b[0m\u001b[0;34m.\u001b[0m\u001b[0mcategories\u001b[0m \u001b[0;34m!=\u001b[0m \u001b[0;34m'auto'\u001b[0m\u001b[0;34m:\u001b[0m\u001b[0;34m\u001b[0m\u001b[0;34m\u001b[0m\u001b[0m\n\u001b[1;32m     77\u001b[0m             \u001b[0;32mif\u001b[0m \u001b[0mlen\u001b[0m\u001b[0;34m(\u001b[0m\u001b[0mself\u001b[0m\u001b[0;34m.\u001b[0m\u001b[0mcategories\u001b[0m\u001b[0;34m)\u001b[0m \u001b[0;34m!=\u001b[0m \u001b[0mn_features\u001b[0m\u001b[0;34m:\u001b[0m\u001b[0;34m\u001b[0m\u001b[0;34m\u001b[0m\u001b[0m\n\u001b[0;32m---> 78\u001b[0;31m                 raise ValueError(\"Shape mismatch: if categories is an array,\"\n\u001b[0m\u001b[1;32m     79\u001b[0m                                  \" it has to be of shape (n_features,).\")\n\u001b[1;32m     80\u001b[0m \u001b[0;34m\u001b[0m\u001b[0m\n",
            "\u001b[0;31mValueError\u001b[0m: Shape mismatch: if categories is an array, it has to be of shape (n_features,)."
          ]
        }
      ]
    },
    {
      "cell_type": "code",
      "metadata": {
        "id": "o-M6qkH-yQ7W"
      },
      "source": [
        "[]"
      ],
      "execution_count": null,
      "outputs": []
    },
    {
      "cell_type": "code",
      "metadata": {
        "id": "G42hMAOYj8EW"
      },
      "source": [
        "sel_col=['City_Code', 'Region_Code', 'Accomodation_Type',\r\n",
        "       'Reco_Insurance_Type', 'Upper_Age', 'Lower_Age', 'Is_Spouse',\r\n",
        "       'Health Indicator', 'Holding_Policy_Duration', 'Holding_Policy_Type',\r\n",
        "       'Reco_Policy_Cat', 'Reco_Policy_Premium',\r\n",
        "       'Is_Holding_Policy', 'mean_age', 'age_gap']\r\n",
        "target_col=['Response']"
      ],
      "execution_count": 52,
      "outputs": []
    },
    {
      "cell_type": "code",
      "metadata": {
        "id": "C_sOoXXktWx5"
      },
      "source": [
        "from sklearn.preprocessing import StandardScaler\r\n",
        "sc = StandardScaler()\r\n",
        "sc.fit(train[sel_col])\r\n",
        "train[sel_col]=sc.transform(train[sel_col])\r\n",
        "test[sel_col]=sc.transform(test[sel_col])"
      ],
      "execution_count": 63,
      "outputs": []
    },
    {
      "cell_type": "code",
      "metadata": {
        "colab": {
          "base_uri": "https://localhost:8080/"
        },
        "id": "G3D4KFTLjRqo",
        "outputId": "bedda3a8-d813-4c34-f597-052738d974c4"
      },
      "source": [
        "X, x_test, y, y_test = train_test_split(train[sel_col], train[target_col], test_size=0.2, random_state=786)\r\n",
        "print(X.shape,x_test.shape,train.shape,X.shape[0]+x_test.shape[0])"
      ],
      "execution_count": 64,
      "outputs": [
        {
          "output_type": "stream",
          "text": [
            "(40705, 15) (10177, 15) (50882, 17) 50882\n"
          ],
          "name": "stdout"
        }
      ]
    },
    {
      "cell_type": "code",
      "metadata": {
        "id": "fikEKdkAsd7I"
      },
      "source": [
        "import tensorflow as tf\r\n",
        "from tensorflow import keras"
      ],
      "execution_count": 60,
      "outputs": []
    },
    {
      "cell_type": "code",
      "metadata": {
        "colab": {
          "base_uri": "https://localhost:8080/"
        },
        "collapsed": true,
        "id": "lFRFoNY7mvf4",
        "outputId": "b222f4d8-ed2e-465b-a046-1909e3428e5b"
      },
      "source": [
        "# model = Sequential()\r\n",
        "# model.add(Dense(10, input_dim=X.shape[1], activation='relu', kernel_initializer='he_normal'))\r\n",
        "# model.add(Dense(10, input_dim=X.shape[1], activation='relu', kernel_initializer='he_normal'))\r\n",
        "# model.add(Dense(1, activation='sigmoid'))\r\n",
        "model = keras.Sequential([\r\n",
        "    keras.layers.Flatten(input_shape=(X.shape[1],)),\r\n",
        "    keras.layers.Dense(10, activation=tf.nn.relu),\r\n",
        "    keras.layers.Dense(5, activation=tf.nn.relu),\r\n",
        "    keras.layers.Dense(1, activation=tf.nn.sigmoid),\r\n",
        "])\r\n",
        "# compile the keras model\r\n",
        "model.compile(loss='binary_crossentropy', optimizer='adam', metrics=[tf.keras.metrics.AUC()])\r\n",
        "# fit the keras model on the dataset\r\n",
        "model.fit(X, y, epochs=10, batch_size=15, verbose=2)\r\n",
        "# evaluate the keras model\r\n",
        "_, accuracy = model.evaluate(x_test, y_test, verbose=0)\r\n",
        "roc_auc_score(y,model.predict(X))"
      ],
      "execution_count": 71,
      "outputs": [
        {
          "output_type": "stream",
          "text": [
            "Epoch 1/10\n",
            "2714/2714 - 3s - loss: 0.5490 - auc_3: 0.5514\n",
            "Epoch 2/10\n",
            "2714/2714 - 3s - loss: 0.5410 - auc_3: 0.5660\n",
            "Epoch 3/10\n",
            "2714/2714 - 3s - loss: 0.5393 - auc_3: 0.5743\n",
            "Epoch 4/10\n",
            "2714/2714 - 3s - loss: 0.5387 - auc_3: 0.5752\n",
            "Epoch 5/10\n",
            "2714/2714 - 3s - loss: 0.5385 - auc_3: 0.5791\n",
            "Epoch 6/10\n",
            "2714/2714 - 3s - loss: 0.5381 - auc_3: 0.5806\n",
            "Epoch 7/10\n",
            "2714/2714 - 3s - loss: 0.5380 - auc_3: 0.5809\n",
            "Epoch 8/10\n",
            "2714/2714 - 3s - loss: 0.5378 - auc_3: 0.5820\n",
            "Epoch 9/10\n",
            "2714/2714 - 3s - loss: 0.5375 - auc_3: 0.5835\n",
            "Epoch 10/10\n",
            "2714/2714 - 3s - loss: 0.5373 - auc_3: 0.5850\n"
          ],
          "name": "stdout"
        },
        {
          "output_type": "execute_result",
          "data": {
            "text/plain": [
              "0.5885917646194967"
            ]
          },
          "metadata": {
            "tags": []
          },
          "execution_count": 71
        }
      ]
    },
    {
      "cell_type": "code",
      "metadata": {
        "colab": {
          "base_uri": "https://localhost:8080/"
        },
        "id": "7_UeDam0o2F-",
        "outputId": "2bd5ee1a-6a3b-4107-b4a0-90d5d8f8e9d5"
      },
      "source": [
        "roc_auc_score(y_test,model.predict(x_test))\r\n",
        "# 0.5622076813985002"
      ],
      "execution_count": 72,
      "outputs": [
        {
          "output_type": "execute_result",
          "data": {
            "text/plain": [
              "0.5699944187504734"
            ]
          },
          "metadata": {
            "tags": []
          },
          "execution_count": 72
        }
      ]
    },
    {
      "cell_type": "code",
      "metadata": {
        "colab": {
          "base_uri": "https://localhost:8080/"
        },
        "id": "uNHrsV8Kumn6",
        "outputId": "46271bb8-5daa-4d27-dd2f-563ffbd0837d"
      },
      "source": [
        "model.summary()"
      ],
      "execution_count": 73,
      "outputs": [
        {
          "output_type": "stream",
          "text": [
            "Model: \"sequential_30\"\n",
            "_________________________________________________________________\n",
            "Layer (type)                 Output Shape              Param #   \n",
            "=================================================================\n",
            "flatten_1 (Flatten)          (None, 15)                0         \n",
            "_________________________________________________________________\n",
            "dense_60 (Dense)             (None, 10)                160       \n",
            "_________________________________________________________________\n",
            "dense_61 (Dense)             (None, 5)                 55        \n",
            "_________________________________________________________________\n",
            "dense_62 (Dense)             (None, 1)                 6         \n",
            "=================================================================\n",
            "Total params: 221\n",
            "Trainable params: 221\n",
            "Non-trainable params: 0\n",
            "_________________________________________________________________\n"
          ],
          "name": "stdout"
        }
      ]
    },
    {
      "cell_type": "code",
      "metadata": {
        "id": "RF6pyNVLpKIT"
      },
      "source": [
        "pred=model.predict(test).ravel()"
      ],
      "execution_count": 41,
      "outputs": []
    },
    {
      "cell_type": "code",
      "metadata": {
        "id": "eXHg6UAhpX82"
      },
      "source": [
        "submission=pd.DataFrame({'ID':test.ID,'Response':pred})"
      ],
      "execution_count": 42,
      "outputs": []
    },
    {
      "cell_type": "code",
      "metadata": {
        "colab": {
          "base_uri": "https://localhost:8080/"
        },
        "id": "8AanjenepaXS",
        "outputId": "476a4450-0cec-4762-e708-98a75beebb29"
      },
      "source": [
        "submission.Response.value_counts()"
      ],
      "execution_count": 44,
      "outputs": [
        {
          "output_type": "execute_result",
          "data": {
            "text/plain": [
              "1.0    21805\n",
              "Name: Response, dtype: int64"
            ]
          },
          "metadata": {
            "tags": []
          },
          "execution_count": 44
        }
      ]
    },
    {
      "cell_type": "code",
      "metadata": {
        "id": "CI7nlVg7p2m0"
      },
      "source": [
        "test_pred=model.predict(x_test).ravel()"
      ],
      "execution_count": 49,
      "outputs": []
    },
    {
      "cell_type": "code",
      "metadata": {
        "id": "XagIj81vqDF4"
      },
      "source": [
        "x_test['pred']=test_pred"
      ],
      "execution_count": 50,
      "outputs": []
    },
    {
      "cell_type": "code",
      "metadata": {
        "colab": {
          "base_uri": "https://localhost:8080/",
          "height": 423
        },
        "id": "Nu6a3eNaqI2d",
        "outputId": "0b1526df-a302-4cf1-c5ba-751085114c31"
      },
      "source": [
        ""
      ],
      "execution_count": 51,
      "outputs": [
        {
          "output_type": "execute_result",
          "data": {
            "text/html": [
              "<div>\n",
              "<style scoped>\n",
              "    .dataframe tbody tr th:only-of-type {\n",
              "        vertical-align: middle;\n",
              "    }\n",
              "\n",
              "    .dataframe tbody tr th {\n",
              "        vertical-align: top;\n",
              "    }\n",
              "\n",
              "    .dataframe thead th {\n",
              "        text-align: right;\n",
              "    }\n",
              "</style>\n",
              "<table border=\"1\" class=\"dataframe\">\n",
              "  <thead>\n",
              "    <tr style=\"text-align: right;\">\n",
              "      <th></th>\n",
              "      <th>City_Code</th>\n",
              "      <th>Region_Code</th>\n",
              "      <th>Accomodation_Type</th>\n",
              "      <th>Reco_Insurance_Type</th>\n",
              "      <th>Upper_Age</th>\n",
              "      <th>Lower_Age</th>\n",
              "      <th>Is_Spouse</th>\n",
              "      <th>Health Indicator</th>\n",
              "      <th>Holding_Policy_Duration</th>\n",
              "      <th>Holding_Policy_Type</th>\n",
              "      <th>Reco_Policy_Cat</th>\n",
              "      <th>Reco_Policy_Premium</th>\n",
              "      <th>Response</th>\n",
              "      <th>Is_Holding_Policy</th>\n",
              "      <th>mean_age</th>\n",
              "      <th>age_gap</th>\n",
              "      <th>pred</th>\n",
              "    </tr>\n",
              "  </thead>\n",
              "  <tbody>\n",
              "    <tr>\n",
              "      <th>3918</th>\n",
              "      <td>9</td>\n",
              "      <td>196</td>\n",
              "      <td>1</td>\n",
              "      <td>0</td>\n",
              "      <td>49</td>\n",
              "      <td>49</td>\n",
              "      <td>0</td>\n",
              "      <td>2</td>\n",
              "      <td>4</td>\n",
              "      <td>4</td>\n",
              "      <td>13</td>\n",
              "      <td>14742.0</td>\n",
              "      <td>0</td>\n",
              "      <td>1</td>\n",
              "      <td>49.0</td>\n",
              "      <td>0</td>\n",
              "      <td>8.578342e-11</td>\n",
              "    </tr>\n",
              "    <tr>\n",
              "      <th>37480</th>\n",
              "      <td>23</td>\n",
              "      <td>322</td>\n",
              "      <td>1</td>\n",
              "      <td>1</td>\n",
              "      <td>72</td>\n",
              "      <td>71</td>\n",
              "      <td>1</td>\n",
              "      <td>3</td>\n",
              "      <td>15</td>\n",
              "      <td>0</td>\n",
              "      <td>9</td>\n",
              "      <td>30189.6</td>\n",
              "      <td>0</td>\n",
              "      <td>1</td>\n",
              "      <td>71.5</td>\n",
              "      <td>1</td>\n",
              "      <td>2.196536e-13</td>\n",
              "    </tr>\n",
              "    <tr>\n",
              "      <th>10936</th>\n",
              "      <td>3</td>\n",
              "      <td>2141</td>\n",
              "      <td>0</td>\n",
              "      <td>0</td>\n",
              "      <td>26</td>\n",
              "      <td>26</td>\n",
              "      <td>0</td>\n",
              "      <td>0</td>\n",
              "      <td>0</td>\n",
              "      <td>1</td>\n",
              "      <td>9</td>\n",
              "      <td>9872.0</td>\n",
              "      <td>1</td>\n",
              "      <td>0</td>\n",
              "      <td>26.0</td>\n",
              "      <td>0</td>\n",
              "      <td>1.000000e+00</td>\n",
              "    </tr>\n",
              "    <tr>\n",
              "      <th>46021</th>\n",
              "      <td>18</td>\n",
              "      <td>1079</td>\n",
              "      <td>0</td>\n",
              "      <td>0</td>\n",
              "      <td>23</td>\n",
              "      <td>23</td>\n",
              "      <td>0</td>\n",
              "      <td>4</td>\n",
              "      <td>0</td>\n",
              "      <td>1</td>\n",
              "      <td>1</td>\n",
              "      <td>6948.0</td>\n",
              "      <td>0</td>\n",
              "      <td>0</td>\n",
              "      <td>23.0</td>\n",
              "      <td>0</td>\n",
              "      <td>3.360103e-07</td>\n",
              "    </tr>\n",
              "    <tr>\n",
              "      <th>18314</th>\n",
              "      <td>21</td>\n",
              "      <td>772</td>\n",
              "      <td>1</td>\n",
              "      <td>0</td>\n",
              "      <td>53</td>\n",
              "      <td>53</td>\n",
              "      <td>0</td>\n",
              "      <td>1</td>\n",
              "      <td>15</td>\n",
              "      <td>0</td>\n",
              "      <td>12</td>\n",
              "      <td>10920.0</td>\n",
              "      <td>0</td>\n",
              "      <td>1</td>\n",
              "      <td>53.0</td>\n",
              "      <td>0</td>\n",
              "      <td>1.372899e-08</td>\n",
              "    </tr>\n",
              "    <tr>\n",
              "      <th>...</th>\n",
              "      <td>...</td>\n",
              "      <td>...</td>\n",
              "      <td>...</td>\n",
              "      <td>...</td>\n",
              "      <td>...</td>\n",
              "      <td>...</td>\n",
              "      <td>...</td>\n",
              "      <td>...</td>\n",
              "      <td>...</td>\n",
              "      <td>...</td>\n",
              "      <td>...</td>\n",
              "      <td>...</td>\n",
              "      <td>...</td>\n",
              "      <td>...</td>\n",
              "      <td>...</td>\n",
              "      <td>...</td>\n",
              "      <td>...</td>\n",
              "    </tr>\n",
              "    <tr>\n",
              "      <th>26049</th>\n",
              "      <td>1</td>\n",
              "      <td>1240</td>\n",
              "      <td>0</td>\n",
              "      <td>0</td>\n",
              "      <td>53</td>\n",
              "      <td>53</td>\n",
              "      <td>0</td>\n",
              "      <td>2</td>\n",
              "      <td>6</td>\n",
              "      <td>4</td>\n",
              "      <td>15</td>\n",
              "      <td>13002.0</td>\n",
              "      <td>0</td>\n",
              "      <td>1</td>\n",
              "      <td>53.0</td>\n",
              "      <td>0</td>\n",
              "      <td>2.722201e-10</td>\n",
              "    </tr>\n",
              "    <tr>\n",
              "      <th>43510</th>\n",
              "      <td>13</td>\n",
              "      <td>706</td>\n",
              "      <td>0</td>\n",
              "      <td>0</td>\n",
              "      <td>21</td>\n",
              "      <td>21</td>\n",
              "      <td>0</td>\n",
              "      <td>1</td>\n",
              "      <td>1</td>\n",
              "      <td>3</td>\n",
              "      <td>13</td>\n",
              "      <td>7524.0</td>\n",
              "      <td>1</td>\n",
              "      <td>1</td>\n",
              "      <td>21.0</td>\n",
              "      <td>0</td>\n",
              "      <td>1.000000e+00</td>\n",
              "    </tr>\n",
              "    <tr>\n",
              "      <th>32481</th>\n",
              "      <td>6</td>\n",
              "      <td>213</td>\n",
              "      <td>0</td>\n",
              "      <td>0</td>\n",
              "      <td>29</td>\n",
              "      <td>29</td>\n",
              "      <td>0</td>\n",
              "      <td>1</td>\n",
              "      <td>5</td>\n",
              "      <td>0</td>\n",
              "      <td>12</td>\n",
              "      <td>9044.0</td>\n",
              "      <td>0</td>\n",
              "      <td>1</td>\n",
              "      <td>29.0</td>\n",
              "      <td>0</td>\n",
              "      <td>9.971591e-07</td>\n",
              "    </tr>\n",
              "    <tr>\n",
              "      <th>13175</th>\n",
              "      <td>3</td>\n",
              "      <td>349</td>\n",
              "      <td>0</td>\n",
              "      <td>0</td>\n",
              "      <td>44</td>\n",
              "      <td>44</td>\n",
              "      <td>0</td>\n",
              "      <td>4</td>\n",
              "      <td>13</td>\n",
              "      <td>0</td>\n",
              "      <td>21</td>\n",
              "      <td>12900.0</td>\n",
              "      <td>0</td>\n",
              "      <td>1</td>\n",
              "      <td>44.0</td>\n",
              "      <td>0</td>\n",
              "      <td>3.663321e-08</td>\n",
              "    </tr>\n",
              "    <tr>\n",
              "      <th>23967</th>\n",
              "      <td>5</td>\n",
              "      <td>2217</td>\n",
              "      <td>0</td>\n",
              "      <td>0</td>\n",
              "      <td>32</td>\n",
              "      <td>32</td>\n",
              "      <td>0</td>\n",
              "      <td>0</td>\n",
              "      <td>10</td>\n",
              "      <td>0</td>\n",
              "      <td>22</td>\n",
              "      <td>6530.0</td>\n",
              "      <td>0</td>\n",
              "      <td>1</td>\n",
              "      <td>32.0</td>\n",
              "      <td>0</td>\n",
              "      <td>6.483371e-06</td>\n",
              "    </tr>\n",
              "  </tbody>\n",
              "</table>\n",
              "<p>10177 rows × 17 columns</p>\n",
              "</div>"
            ],
            "text/plain": [
              "       City_Code  Region_Code  ...  age_gap          pred\n",
              "3918           9          196  ...        0  8.578342e-11\n",
              "37480         23          322  ...        1  2.196536e-13\n",
              "10936          3         2141  ...        0  1.000000e+00\n",
              "46021         18         1079  ...        0  3.360103e-07\n",
              "18314         21          772  ...        0  1.372899e-08\n",
              "...          ...          ...  ...      ...           ...\n",
              "26049          1         1240  ...        0  2.722201e-10\n",
              "43510         13          706  ...        0  1.000000e+00\n",
              "32481          6          213  ...        0  9.971591e-07\n",
              "13175          3          349  ...        0  3.663321e-08\n",
              "23967          5         2217  ...        0  6.483371e-06\n",
              "\n",
              "[10177 rows x 17 columns]"
            ]
          },
          "metadata": {
            "tags": []
          },
          "execution_count": 51
        }
      ]
    }
  ]
}